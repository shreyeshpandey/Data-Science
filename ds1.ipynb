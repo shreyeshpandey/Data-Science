{
  "nbformat": 4,
  "nbformat_minor": 0,
  "metadata": {
    "colab": {
      "name": "ds1.ipynb",
      "provenance": [],
      "collapsed_sections": []
    },
    "kernelspec": {
      "name": "python3",
      "display_name": "Python 3"
    }
  },
  "cells": [
    {
      "cell_type": "code",
      "metadata": {
        "id": "-a9I1rhQq7S_"
      },
      "source": [
        "from sklearn import datasets"
      ],
      "execution_count": null,
      "outputs": []
    },
    {
      "cell_type": "code",
      "metadata": {
        "id": "oLstkzOfslUw"
      },
      "source": [
        "iris_dataset=datasets.load_iris()"
      ],
      "execution_count": null,
      "outputs": []
    },
    {
      "cell_type": "code",
      "metadata": {
        "id": "F0KGlOGGzunU"
      },
      "source": [
        "X=iris_dataset.data[:,:2] "
      ],
      "execution_count": null,
      "outputs": []
    },
    {
      "cell_type": "code",
      "metadata": {
        "id": "TCcMdS8q0TuL"
      },
      "source": [
        "x_count=len(X.flat)\r\n",
        "x_min=X[:,0].min()-.5\r\n",
        "x_max=X[:,0].max()+.5\r\n",
        "x_mean=X[:,0].mean()"
      ],
      "execution_count": null,
      "outputs": []
    },
    {
      "cell_type": "code",
      "metadata": {
        "colab": {
          "base_uri": "https://localhost:8080/"
        },
        "id": "jYaJdizs1Cc7",
        "outputId": "b1a71bb3-2943-446e-e03d-a837a47b6d62"
      },
      "source": [
        "x_count,x_min,x_max,x_mean"
      ],
      "execution_count": null,
      "outputs": [
        {
          "output_type": "execute_result",
          "data": {
            "text/plain": [
              "(300, 3.8, 8.4, 5.843333333333334)"
            ]
          },
          "metadata": {
            "tags": []
          },
          "execution_count": 11
        }
      ]
    }
  ]
}